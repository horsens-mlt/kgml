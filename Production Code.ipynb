{
 "cells": [
  {
   "cell_type": "code",
   "execution_count": 55,
   "metadata": {},
   "outputs": [],
   "source": [
    "### 1. Data import and general settings\n",
    "import pandas as pd \n",
    "import numpy as np\n",
    "\n",
    "from sagemaker import get_execution_role\n",
    "\n",
    "role = get_execution_role()\n",
    "bucket = 'kgml-data'\n",
    "data_key='KGML_2.csv'\n",
    "data_location = 's3://{}/{}'.format(bucket, data_key)\n",
    "df=pd.read_csv(data_location,sep=';',decimal=\",\")\n",
    "\n",
    "\n",
    "pd.set_option('display.max_columns',500)\n",
    "pd.set_option('display.max_rows',500)"
   ]
  },
  {
   "cell_type": "code",
   "execution_count": 56,
   "metadata": {},
   "outputs": [],
   "source": [
    "######## Chapter 6.2: Data Preparation #########\n",
    "\n",
    "###      Includes following: \n",
    "#        1. Data Type conversions\n",
    "#        2. Handling Missing Values - 6.2.1 \n",
    "#        3. Variable Selection - 6.2.1 \n",
    "#        4. Training/test split - 7.1.2, has to be done before undersampling. \n",
    "#        5. Balancing Target Distribution - 6.2.3 \n",
    "#           5.1 SMOTE \n",
    "#           5.2 ADASYN\n",
    "#           5.3 Under Sampling \n",
    "\n",
    "### 1. Data Type conversions: \n",
    "\n",
    "# Comvertimg variable types & setting number of decimals: \n",
    "\n",
    "# Transform int64 variables to categorical vairables \n",
    "df['MPostnr'] = df['MPostnr'].astype('category')\n",
    "df['MBy'] = df['MBy'].astype('category')\n",
    "df['AEPostnr'] = df['AEPostnr'].astype('category')\n",
    "df['AEBy'] = df['AEBy'].astype('category')\n",
    "df['BPostnr'] = df['BPostnr'].astype('category')\n",
    "df['BBy'] = df['BBy'].astype('category')\n",
    "df['B2Postnr'] = df['B2Postnr'].astype('category')\n",
    "df['B2By'] = df['B2By'].astype('category')\n",
    "df['B3Postnr'] = df['B3Postnr'].astype('category')\n",
    "df['B3By'] = df['B3By'].astype('category')\n",
    "df['Alder']=df['Alder'].astype('category')\n",
    "\n",
    "# Transform integer variables to floats \n",
    "df['IndexKvartal']=df['IndexKvartal'].astype('float64')\n",
    "df['IndexAar']=df['IndexAar'].astype('float64')\n",
    "df['offentligeYdelser']=df['offentligeYdelser'].astype('float64')\n",
    "df['privateIndtaegter']=df['privateIndtaegter'].astype('float64')\n",
    "\n",
    "# Transform string/character variables to categorical variables \n",
    "df['MBy']=df['MBy'].cat.codes\n",
    "df['AEBy']=df['AEBy'].cat.codes\n",
    "df['BBy']=df['BBy'].cat.codes\n",
    "df['B2By']=df['B2By'].cat.codes\n",
    "df['B3By']=df['B3By'].cat.codes\n",
    "\n",
    "# Set all cell values in DF to include only two decimals: \n",
    "df=df.round(2)\n",
    "\n",
    "### 2. Handling Missing Values\n",
    "\n",
    "# Set empty cells (\"\") to NAN\n",
    "# df=df.replace(r'^\\s*$', np.nan, regex=True)\n",
    "\n",
    "### 3. Variable Selection \n",
    "\n",
    "# Variables being dropped due to correlation \n",
    "df=df.drop(['id','AEPostnr','BPostnr','B2Postnr','B3Postnr','MPostnr','IndexKvartal','B3By','B3Alder',\n",
    "            'B2Alder','UDKTypeEkstraBTilskudEnlig','KTypePensKom','MKommune,,,,'],axis=1)\n",
    "\n",
    "\n",
    "df=df.replace({'Kÿn': {'Mand':0, 'Kvinde':1}})\n",
    "df=df.replace({'Alder': {'0 til 9':1,'10 til 19':1, '20 til 29':1, '30 til 39':2, '40 til 49':3, \n",
    "                         '50 til 59':4, '60 til 69':5, '70 til 79':5, '80 til 89':5, \n",
    "                         '90 til 90':5}})"
   ]
  },
  {
   "cell_type": "code",
   "execution_count": 57,
   "metadata": {},
   "outputs": [
    {
     "name": "stdout",
     "output_type": "stream",
     "text": [
      "Number of observations and columns in x train (727, 34)\n",
      "Number of observations and columns in y train (727,)\n",
      "Number of observations and columns in x test (486, 34)\n",
      "Number of observations and columns in y test (486,)\n"
     ]
    }
   ],
   "source": [
    "### 4. Creating training/test split: \n",
    "\n",
    "from sklearn.model_selection import train_test_split\n",
    "\n",
    "x=df.iloc[:,1:]\n",
    "y=df.iloc[:,0]\n",
    "\n",
    "x_train, x_test, y_train, y_test = train_test_split(x, y, test_size=0.4, random_state = 2)\n",
    "\n",
    "print('Number of observations and columns in x train', x_train.shape)\n",
    "print('Number of observations and columns in y train', y_train.shape)\n",
    "print('Number of observations and columns in x test' , x_test.shape)\n",
    "print('Number of observations and columns in y test' , y_test.shape)"
   ]
  },
  {
   "cell_type": "code",
   "execution_count": 58,
   "metadata": {},
   "outputs": [],
   "source": [
    "### 5. Balancing dataset \n",
    "# From above it is clear that our distribution is highly skewed - SMOTE:  \n",
    "from imblearn.over_sampling import SMOTE\n",
    "from imblearn.over_sampling import ADASYN\n",
    "from imblearn.under_sampling import RandomUnderSampler"
   ]
  },
  {
   "cell_type": "code",
   "execution_count": 59,
   "metadata": {},
   "outputs": [],
   "source": [
    "## 5.1 SMOTE \n",
    "sm=SMOTE(random_state=2)\n",
    "x_train_smo,y_train_smo=sm.fit_sample(x_train,y_train)\n",
    "\n",
    "## 5.2 ADASYN\n",
    "sma=ADASYN(random_state=3)\n",
    "x_train_ada,y_train_ada=sma.fit_sample(x_train,y_train)\n",
    "\n",
    "## 5.3 Under Sampling\n",
    "rus=RandomUnderSampler(random_state=4)\n",
    "x_train_us,y_train_us=rus.fit_sample(x_train,y_train)\n",
    "x_test_us,y_test_us=rus.fit_sample(x_test,y_test)"
   ]
  },
  {
   "cell_type": "code",
   "execution_count": 60,
   "metadata": {},
   "outputs": [],
   "source": [
    "## Converting variables back to Data frames: \n",
    "# y_train_smo=pd.DataFrame(y_train_smo)\n",
    "# y_train_smo =y_train_smo.rename(columns={0: 'Target'})\n",
    "# \n",
    "# y_train_ada=pd.DataFrame(y_train_ada)\n",
    "# y_train_ada =y_train_ada.rename(columns={0: 'Target'})\n",
    "# \n",
    "# y_train_us=pd.DataFrame(y_train_us)\n",
    "# y_train_us =y_train_us.rename(columns={0: 'Target'})\n",
    "\n",
    "x_train_smo=pd.DataFrame(x_train_smo,columns=[x_test])\n",
    "x_train_ada=pd.DataFrame(x_train_ada,columns=[x_test])\n",
    "x_train_us=pd.DataFrame(x_train_us,columns=[x_test])\n",
    "x_test_us=pd.DataFrame(x_test_us,columns=[x_test])"
   ]
  },
  {
   "cell_type": "code",
   "execution_count": 61,
   "metadata": {},
   "outputs": [
    {
     "data": {
      "text/plain": [
       "LogisticRegression(C=1.0, class_weight=None, dual=False, fit_intercept=True,\n",
       "                   intercept_scaling=1, l1_ratio=None, max_iter=4000,\n",
       "                   multi_class='warn', n_jobs=None, penalty='l1',\n",
       "                   random_state=42, solver='liblinear', tol=0.0001, verbose=0,\n",
       "                   warm_start=False)"
      ]
     },
     "execution_count": 61,
     "metadata": {},
     "output_type": "execute_result"
    }
   ],
   "source": [
    "### 2. Logistic Regression \n",
    "from sklearn.linear_model import LogisticRegression\n",
    "from sklearn.metrics import accuracy_score\n",
    "from sklearn.metrics import confusion_matrix\n",
    "\n",
    "# Fitting Models:  \n",
    "log_smo = LogisticRegression(solver='liblinear',penalty='l1',max_iter=4000, random_state=42)\n",
    "log_smo.fit(x_train_smo, y_train_smo)\n",
    "   \n",
    "log_ada = LogisticRegression(solver='liblinear',penalty='l1',max_iter=4000, random_state=42)\n",
    "log_ada.fit(x_train_ada, y_train_ada)\n",
    "\n",
    "log_us = LogisticRegression(solver='liblinear',penalty='l1',max_iter=4000, random_state=42)\n",
    "log_us.fit(x_train_us, y_train_us) \n"
   ]
  },
  {
   "cell_type": "code",
   "execution_count": 62,
   "metadata": {},
   "outputs": [
    {
     "name": "stdout",
     "output_type": "stream",
     "text": [
      "Accuracy of logistic regression classifier - SMO on test set: 0.693\n",
      "Accuracy of logistic regression classifier - ADA on test set: 0.700\n",
      "Accuracy of logistic regression classifier - US on test set: 0.458\n"
     ]
    }
   ],
   "source": [
    "# Creating Predictions: \n",
    "y_pred_smo = log_smo.predict(x_test)\n",
    "print('Accuracy of logistic regression classifier - SMO on test set: {:.3f}'.format(accuracy_score(y_test, y_pred_smo)))\n",
    "\n",
    "y_pred_ada = log_ada.predict(x_test)\n",
    "print('Accuracy of logistic regression classifier - ADA on test set: {:.3f}'.format(accuracy_score(y_test, y_pred_ada)))\n",
    "\n",
    "y_pred_us = log_us.predict(x_test_us)\n",
    "print('Accuracy of logistic regression classifier - US on test set: {:.3f}'.format(accuracy_score(y_test_us, y_pred_us)))"
   ]
  },
  {
   "cell_type": "code",
   "execution_count": 63,
   "metadata": {},
   "outputs": [
    {
     "name": "stdout",
     "output_type": "stream",
     "text": [
      "Confusion matrix - Logistic Regression with Smote:\n",
      "[[326 136]\n",
      " [ 13  11]]\n",
      "\n",
      " Confusion matrix - Logistic Regression with Adasyn:\n",
      "[[328 134]\n",
      " [ 12  12]]\n",
      "\n",
      " Confusion matrix - Logistic Regression with UnderSampling:\n",
      "[[ 9 15]\n",
      " [11 13]]\n"
     ]
    }
   ],
   "source": [
    "# Confusion matrices\n",
    "print('Confusion matrix - Logistic Regression with Smote:')\n",
    "print(confusion_matrix(y_test, y_pred_smo))\n",
    "\n",
    "print('\\n','Confusion matrix - Logistic Regression with Adasyn:')\n",
    "print(confusion_matrix(y_test, y_pred_ada))\n",
    "\n",
    "print('\\n','Confusion matrix - Logistic Regression with UnderSampling:')\n",
    "print(confusion_matrix(y_test_us, y_pred_us))\n"
   ]
  },
  {
   "cell_type": "code",
   "execution_count": 64,
   "metadata": {},
   "outputs": [
    {
     "name": "stdout",
     "output_type": "stream",
     "text": [
      "Performance Measures - Logistic Regression with Smote:\n",
      "              precision    recall  f1-score   support\n",
      "\n",
      "           0       0.96      0.71      0.81       462\n",
      "           1       0.07      0.46      0.13        24\n",
      "\n",
      "    accuracy                           0.69       486\n",
      "   macro avg       0.52      0.58      0.47       486\n",
      "weighted avg       0.92      0.69      0.78       486\n",
      "\n",
      "\n",
      " Performance Measures - Logistic Regression with Adasyn:\n",
      "              precision    recall  f1-score   support\n",
      "\n",
      "           0       0.96      0.71      0.82       462\n",
      "           1       0.08      0.50      0.14        24\n",
      "\n",
      "    accuracy                           0.70       486\n",
      "   macro avg       0.52      0.60      0.48       486\n",
      "weighted avg       0.92      0.70      0.78       486\n",
      "\n",
      "\n",
      " Performance Measures - Logistic Regression with US:\n",
      "              precision    recall  f1-score   support\n",
      "\n",
      "           0       0.45      0.38      0.41        24\n",
      "           1       0.46      0.54      0.50        24\n",
      "\n",
      "    accuracy                           0.46        48\n",
      "   macro avg       0.46      0.46      0.45        48\n",
      "weighted avg       0.46      0.46      0.45        48\n",
      "\n"
     ]
    }
   ],
   "source": [
    "# Accuracy measures: \n",
    "from sklearn.metrics import classification_report\n",
    "print('Performance Measures - Logistic Regression with Smote:')\n",
    "print(classification_report(y_test, y_pred_smo)) \n",
    "\n",
    "print('\\n','Performance Measures - Logistic Regression with Adasyn:')\n",
    "print(classification_report(y_test,y_pred_ada))\n",
    "\n",
    "print('\\n','Performance Measures - Logistic Regression with US:')\n",
    "print(classification_report(y_test_us,y_pred_us))\n"
   ]
  }
 ],
 "metadata": {
  "kernelspec": {
   "display_name": "conda_python3",
   "language": "python",
   "name": "conda_python3"
  },
  "language_info": {
   "codemirror_mode": {
    "name": "ipython",
    "version": 3
   },
   "file_extension": ".py",
   "mimetype": "text/x-python",
   "name": "python",
   "nbconvert_exporter": "python",
   "pygments_lexer": "ipython3",
   "version": "3.6.5"
  }
 },
 "nbformat": 4,
 "nbformat_minor": 2
}

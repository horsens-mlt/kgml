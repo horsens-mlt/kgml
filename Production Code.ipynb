{
 "cells": [
  {
   "cell_type": "code",
   "execution_count": 13,
   "metadata": {
    "scrolled": true
   },
   "outputs": [
    {
     "name": "stdout",
     "output_type": "stream",
     "text": [
      "Collecting upgrade\n",
      "\u001b[31m  Could not find a version that satisfies the requirement upgrade (from versions: )\u001b[0m\n",
      "\u001b[31mNo matching distribution found for upgrade\u001b[0m\n",
      "\u001b[33mYou are using pip version 10.0.1, however version 19.1.1 is available.\n",
      "You should consider upgrading via the 'pip install --upgrade pip' command.\u001b[0m\n",
      "Requirement already satisfied: imbalanced-learn in /home/ec2-user/anaconda3/envs/python3/lib/python3.6/site-packages (0.4.3)\n",
      "Requirement already satisfied: numpy>=1.8.2 in /home/ec2-user/anaconda3/envs/python3/lib/python3.6/site-packages (from imbalanced-learn) (1.15.4)\n",
      "Requirement already satisfied: scikit-learn>=0.20 in /home/ec2-user/anaconda3/envs/python3/lib/python3.6/site-packages (from imbalanced-learn) (0.21.0)\n",
      "Requirement already satisfied: scipy>=0.13.3 in /home/ec2-user/anaconda3/envs/python3/lib/python3.6/site-packages (from imbalanced-learn) (1.1.0)\n",
      "Requirement already satisfied: joblib>=0.11 in /home/ec2-user/anaconda3/envs/python3/lib/python3.6/site-packages (from scikit-learn>=0.20->imbalanced-learn) (0.13.2)\n",
      "\u001b[31mautovizwidget 0.12.7 has requirement plotly<3.0,>=1.10.0, but you'll have plotly 3.9.0 which is incompatible.\u001b[0m\n",
      "\u001b[33mYou are using pip version 10.0.1, however version 19.1.1 is available.\n",
      "You should consider upgrading via the 'pip install --upgrade pip' command.\u001b[0m\n",
      "Requirement already satisfied: cufflinks in /home/ec2-user/anaconda3/envs/python3/lib/python3.6/site-packages (0.15)\n",
      "Requirement already satisfied: plotly>=3.0.0 in /home/ec2-user/anaconda3/envs/python3/lib/python3.6/site-packages (from cufflinks) (3.9.0)\n",
      "Requirement already satisfied: pandas>=0.19.2 in /home/ec2-user/anaconda3/envs/python3/lib/python3.6/site-packages (from cufflinks) (0.22.0)\n",
      "Requirement already satisfied: ipython>=5.3.0 in /home/ec2-user/anaconda3/envs/python3/lib/python3.6/site-packages (from cufflinks) (6.4.0)\n",
      "Requirement already satisfied: ipywidgets>=7.0.0 in /home/ec2-user/anaconda3/envs/python3/lib/python3.6/site-packages (from cufflinks) (7.4.0)\n",
      "Requirement already satisfied: six>=1.9.0 in /home/ec2-user/anaconda3/envs/python3/lib/python3.6/site-packages (from cufflinks) (1.11.0)\n",
      "Requirement already satisfied: setuptools>=34.4.1 in /home/ec2-user/anaconda3/envs/python3/lib/python3.6/site-packages (from cufflinks) (39.1.0)\n",
      "Requirement already satisfied: colorlover>=0.2.1 in /home/ec2-user/anaconda3/envs/python3/lib/python3.6/site-packages (from cufflinks) (0.3.0)\n",
      "Requirement already satisfied: numpy>=1.9.2 in /home/ec2-user/anaconda3/envs/python3/lib/python3.6/site-packages (from cufflinks) (1.15.4)\n",
      "Requirement already satisfied: retrying>=1.3.3 in /home/ec2-user/anaconda3/envs/python3/lib/python3.6/site-packages (from plotly>=3.0.0->cufflinks) (1.3.3)\n",
      "Requirement already satisfied: nbformat>=4.2 in /home/ec2-user/anaconda3/envs/python3/lib/python3.6/site-packages (from plotly>=3.0.0->cufflinks) (4.4.0)\n",
      "Requirement already satisfied: requests in /home/ec2-user/anaconda3/envs/python3/lib/python3.6/site-packages (from plotly>=3.0.0->cufflinks) (2.20.1)\n",
      "Requirement already satisfied: pytz in /home/ec2-user/anaconda3/envs/python3/lib/python3.6/site-packages (from plotly>=3.0.0->cufflinks) (2018.4)\n",
      "Requirement already satisfied: decorator>=4.0.6 in /home/ec2-user/anaconda3/envs/python3/lib/python3.6/site-packages (from plotly>=3.0.0->cufflinks) (4.3.0)\n",
      "Requirement already satisfied: python-dateutil>=2 in /home/ec2-user/anaconda3/envs/python3/lib/python3.6/site-packages (from pandas>=0.19.2->cufflinks) (2.7.3)\n",
      "Requirement already satisfied: backcall in /home/ec2-user/anaconda3/envs/python3/lib/python3.6/site-packages (from ipython>=5.3.0->cufflinks) (0.1.0)\n",
      "Requirement already satisfied: simplegeneric>0.8 in /home/ec2-user/anaconda3/envs/python3/lib/python3.6/site-packages (from ipython>=5.3.0->cufflinks) (0.8.1)\n",
      "Requirement already satisfied: traitlets>=4.2 in /home/ec2-user/anaconda3/envs/python3/lib/python3.6/site-packages (from ipython>=5.3.0->cufflinks) (4.3.2)\n",
      "Requirement already satisfied: prompt-toolkit<2.0.0,>=1.0.15 in /home/ec2-user/anaconda3/envs/python3/lib/python3.6/site-packages (from ipython>=5.3.0->cufflinks) (1.0.15)\n",
      "Requirement already satisfied: jedi>=0.10 in /home/ec2-user/anaconda3/envs/python3/lib/python3.6/site-packages (from ipython>=5.3.0->cufflinks) (0.12.0)\n",
      "Requirement already satisfied: pickleshare in /home/ec2-user/anaconda3/envs/python3/lib/python3.6/site-packages (from ipython>=5.3.0->cufflinks) (0.7.4)\n",
      "Requirement already satisfied: pexpect; sys_platform != \"win32\" in /home/ec2-user/anaconda3/envs/python3/lib/python3.6/site-packages (from ipython>=5.3.0->cufflinks) (4.5.0)\n",
      "Requirement already satisfied: pygments in /home/ec2-user/anaconda3/envs/python3/lib/python3.6/site-packages (from ipython>=5.3.0->cufflinks) (2.2.0)\n",
      "Requirement already satisfied: widgetsnbextension~=3.4.0 in /home/ec2-user/anaconda3/envs/python3/lib/python3.6/site-packages (from ipywidgets>=7.0.0->cufflinks) (3.4.2)\n",
      "Requirement already satisfied: ipykernel>=4.5.1 in /home/ec2-user/anaconda3/envs/python3/lib/python3.6/site-packages (from ipywidgets>=7.0.0->cufflinks) (4.8.2)\n",
      "Requirement already satisfied: ipython_genutils in /home/ec2-user/anaconda3/envs/python3/lib/python3.6/site-packages (from nbformat>=4.2->plotly>=3.0.0->cufflinks) (0.2.0)\n",
      "Requirement already satisfied: jsonschema!=2.5.0,>=2.4 in /home/ec2-user/anaconda3/envs/python3/lib/python3.6/site-packages (from nbformat>=4.2->plotly>=3.0.0->cufflinks) (2.6.0)\n",
      "Requirement already satisfied: jupyter_core in /home/ec2-user/anaconda3/envs/python3/lib/python3.6/site-packages (from nbformat>=4.2->plotly>=3.0.0->cufflinks) (4.4.0)\n",
      "Requirement already satisfied: certifi>=2017.4.17 in /home/ec2-user/anaconda3/envs/python3/lib/python3.6/site-packages (from requests->plotly>=3.0.0->cufflinks) (2019.3.9)\n",
      "Requirement already satisfied: chardet<3.1.0,>=3.0.2 in /home/ec2-user/anaconda3/envs/python3/lib/python3.6/site-packages (from requests->plotly>=3.0.0->cufflinks) (3.0.4)\n",
      "Requirement already satisfied: idna<2.8,>=2.5 in /home/ec2-user/anaconda3/envs/python3/lib/python3.6/site-packages (from requests->plotly>=3.0.0->cufflinks) (2.6)\n",
      "Requirement already satisfied: urllib3<1.25,>=1.21.1 in /home/ec2-user/anaconda3/envs/python3/lib/python3.6/site-packages (from requests->plotly>=3.0.0->cufflinks) (1.23)\n",
      "Requirement already satisfied: wcwidth in /home/ec2-user/anaconda3/envs/python3/lib/python3.6/site-packages (from prompt-toolkit<2.0.0,>=1.0.15->ipython>=5.3.0->cufflinks) (0.1.7)\n",
      "Requirement already satisfied: parso>=0.2.0 in /home/ec2-user/anaconda3/envs/python3/lib/python3.6/site-packages (from jedi>=0.10->ipython>=5.3.0->cufflinks) (0.2.0)\n",
      "Requirement already satisfied: ptyprocess>=0.5 in /home/ec2-user/anaconda3/envs/python3/lib/python3.6/site-packages (from pexpect; sys_platform != \"win32\"->ipython>=5.3.0->cufflinks) (0.5.2)\n",
      "Requirement already satisfied: notebook>=4.4.1 in /home/ec2-user/anaconda3/envs/python3/lib/python3.6/site-packages (from widgetsnbextension~=3.4.0->ipywidgets>=7.0.0->cufflinks) (5.5.0)\n",
      "Requirement already satisfied: jupyter_client in /home/ec2-user/anaconda3/envs/python3/lib/python3.6/site-packages (from ipykernel>=4.5.1->ipywidgets>=7.0.0->cufflinks) (5.2.3)\n",
      "Requirement already satisfied: tornado>=4.0 in /home/ec2-user/anaconda3/envs/python3/lib/python3.6/site-packages (from ipykernel>=4.5.1->ipywidgets>=7.0.0->cufflinks) (5.0.2)\n",
      "Requirement already satisfied: nbconvert in /home/ec2-user/anaconda3/envs/python3/lib/python3.6/site-packages (from notebook>=4.4.1->widgetsnbextension~=3.4.0->ipywidgets>=7.0.0->cufflinks) (5.4.1)\n",
      "Requirement already satisfied: jinja2 in /home/ec2-user/anaconda3/envs/python3/lib/python3.6/site-packages (from notebook>=4.4.1->widgetsnbextension~=3.4.0->ipywidgets>=7.0.0->cufflinks) (2.10)\n",
      "Requirement already satisfied: Send2Trash in /home/ec2-user/anaconda3/envs/python3/lib/python3.6/site-packages (from notebook>=4.4.1->widgetsnbextension~=3.4.0->ipywidgets>=7.0.0->cufflinks) (1.5.0)\n",
      "Requirement already satisfied: terminado>=0.8.1 in /home/ec2-user/anaconda3/envs/python3/lib/python3.6/site-packages (from notebook>=4.4.1->widgetsnbextension~=3.4.0->ipywidgets>=7.0.0->cufflinks) (0.8.1)\n",
      "Requirement already satisfied: pyzmq>=17 in /home/ec2-user/anaconda3/envs/python3/lib/python3.6/site-packages (from notebook>=4.4.1->widgetsnbextension~=3.4.0->ipywidgets>=7.0.0->cufflinks) (17.0.0)\n",
      "Requirement already satisfied: mistune>=0.8.1 in /home/ec2-user/anaconda3/envs/python3/lib/python3.6/site-packages (from nbconvert->notebook>=4.4.1->widgetsnbextension~=3.4.0->ipywidgets>=7.0.0->cufflinks) (0.8.3)\n",
      "Requirement already satisfied: entrypoints>=0.2.2 in /home/ec2-user/anaconda3/envs/python3/lib/python3.6/site-packages (from nbconvert->notebook>=4.4.1->widgetsnbextension~=3.4.0->ipywidgets>=7.0.0->cufflinks) (0.2.3)\n",
      "Requirement already satisfied: bleach in /home/ec2-user/anaconda3/envs/python3/lib/python3.6/site-packages (from nbconvert->notebook>=4.4.1->widgetsnbextension~=3.4.0->ipywidgets>=7.0.0->cufflinks) (2.1.3)\n",
      "Requirement already satisfied: pandocfilters>=1.4.1 in /home/ec2-user/anaconda3/envs/python3/lib/python3.6/site-packages (from nbconvert->notebook>=4.4.1->widgetsnbextension~=3.4.0->ipywidgets>=7.0.0->cufflinks) (1.4.2)\n",
      "Requirement already satisfied: testpath in /home/ec2-user/anaconda3/envs/python3/lib/python3.6/site-packages (from nbconvert->notebook>=4.4.1->widgetsnbextension~=3.4.0->ipywidgets>=7.0.0->cufflinks) (0.3.1)\n",
      "Requirement already satisfied: defusedxml in /home/ec2-user/anaconda3/envs/python3/lib/python3.6/site-packages (from nbconvert->notebook>=4.4.1->widgetsnbextension~=3.4.0->ipywidgets>=7.0.0->cufflinks) (0.5.0)\n",
      "Requirement already satisfied: MarkupSafe>=0.23 in /home/ec2-user/anaconda3/envs/python3/lib/python3.6/site-packages (from jinja2->notebook>=4.4.1->widgetsnbextension~=3.4.0->ipywidgets>=7.0.0->cufflinks) (1.0)\n",
      "Requirement already satisfied: html5lib!=1.0b1,!=1.0b2,!=1.0b3,!=1.0b4,!=1.0b5,!=1.0b6,!=1.0b7,!=1.0b8,>=0.99999999pre in /home/ec2-user/anaconda3/envs/python3/lib/python3.6/site-packages (from bleach->nbconvert->notebook>=4.4.1->widgetsnbextension~=3.4.0->ipywidgets>=7.0.0->cufflinks) (1.0.1)\n"
     ]
    },
    {
     "name": "stdout",
     "output_type": "stream",
     "text": [
      "Requirement already satisfied: webencodings in /home/ec2-user/anaconda3/envs/python3/lib/python3.6/site-packages (from html5lib!=1.0b1,!=1.0b2,!=1.0b3,!=1.0b4,!=1.0b5,!=1.0b6,!=1.0b7,!=1.0b8,>=0.99999999pre->bleach->nbconvert->notebook>=4.4.1->widgetsnbextension~=3.4.0->ipywidgets>=7.0.0->cufflinks) (0.5.1)\n",
      "\u001b[31mautovizwidget 0.12.7 has requirement plotly<3.0,>=1.10.0, but you'll have plotly 3.9.0 which is incompatible.\u001b[0m\n",
      "\u001b[33mYou are using pip version 10.0.1, however version 19.1.1 is available.\n",
      "You should consider upgrading via the 'pip install --upgrade pip' command.\u001b[0m\n",
      "Requirement already satisfied: xgboost in /home/ec2-user/anaconda3/envs/python3/lib/python3.6/site-packages (0.82)\n",
      "Requirement already satisfied: numpy in /home/ec2-user/anaconda3/envs/python3/lib/python3.6/site-packages (from xgboost) (1.15.4)\n",
      "Requirement already satisfied: scipy in /home/ec2-user/anaconda3/envs/python3/lib/python3.6/site-packages (from xgboost) (1.1.0)\n",
      "\u001b[31mautovizwidget 0.12.7 has requirement plotly<3.0,>=1.10.0, but you'll have plotly 3.9.0 which is incompatible.\u001b[0m\n",
      "\u001b[33mYou are using pip version 10.0.1, however version 19.1.1 is available.\n",
      "You should consider upgrading via the 'pip install --upgrade pip' command.\u001b[0m\n",
      "Requirement already satisfied: missingno in /home/ec2-user/anaconda3/envs/python3/lib/python3.6/site-packages (0.4.1)\n",
      "Requirement already satisfied: numpy in /home/ec2-user/anaconda3/envs/python3/lib/python3.6/site-packages (from missingno) (1.15.4)\n",
      "Requirement already satisfied: seaborn in /home/ec2-user/anaconda3/envs/python3/lib/python3.6/site-packages (from missingno) (0.8.1)\n",
      "Requirement already satisfied: scipy in /home/ec2-user/anaconda3/envs/python3/lib/python3.6/site-packages (from missingno) (1.1.0)\n",
      "Requirement already satisfied: matplotlib in /home/ec2-user/anaconda3/envs/python3/lib/python3.6/site-packages (from missingno) (2.2.2)\n",
      "Requirement already satisfied: pandas in /home/ec2-user/anaconda3/envs/python3/lib/python3.6/site-packages (from seaborn->missingno) (0.22.0)\n",
      "Requirement already satisfied: six>=1.10 in /home/ec2-user/anaconda3/envs/python3/lib/python3.6/site-packages (from matplotlib->missingno) (1.11.0)\n",
      "Requirement already satisfied: pytz in /home/ec2-user/anaconda3/envs/python3/lib/python3.6/site-packages (from matplotlib->missingno) (2018.4)\n",
      "Requirement already satisfied: kiwisolver>=1.0.1 in /home/ec2-user/anaconda3/envs/python3/lib/python3.6/site-packages (from matplotlib->missingno) (1.0.1)\n",
      "Requirement already satisfied: python-dateutil>=2.1 in /home/ec2-user/anaconda3/envs/python3/lib/python3.6/site-packages (from matplotlib->missingno) (2.7.3)\n",
      "Requirement already satisfied: cycler>=0.10 in /home/ec2-user/anaconda3/envs/python3/lib/python3.6/site-packages (from matplotlib->missingno) (0.10.0)\n",
      "Requirement already satisfied: pyparsing!=2.0.4,!=2.1.2,!=2.1.6,>=2.0.1 in /home/ec2-user/anaconda3/envs/python3/lib/python3.6/site-packages (from matplotlib->missingno) (2.2.0)\n",
      "Requirement already satisfied: setuptools in /home/ec2-user/anaconda3/envs/python3/lib/python3.6/site-packages (from kiwisolver>=1.0.1->matplotlib->missingno) (39.1.0)\n",
      "\u001b[31mautovizwidget 0.12.7 has requirement plotly<3.0,>=1.10.0, but you'll have plotly 3.9.0 which is incompatible.\u001b[0m\n",
      "\u001b[33mYou are using pip version 10.0.1, however version 19.1.1 is available.\n",
      "You should consider upgrading via the 'pip install --upgrade pip' command.\u001b[0m\n"
     ]
    }
   ],
   "source": [
    "#Package dependencies: \n",
    "!pip install -- upgrade pip\n",
    "!pip install imbalanced-learn\n",
    "!pip install cufflinks\n",
    "!pip install xgboost\n",
    "!pip install missingno"
   ]
  },
  {
   "cell_type": "code",
   "execution_count": 45,
   "metadata": {},
   "outputs": [],
   "source": [
    "### 1. Data import and general settings\n",
    "import pandas as pd \n",
    "import numpy as np\n",
    "\n",
    "from sagemaker import get_execution_role\n",
    "\n",
    "role = get_execution_role()\n",
    "bucket = 'kgml-data'\n",
    "data_key='KGML_2.csv'\n",
    "data_location = 's3://{}/{}'.format(bucket, data_key)\n",
    "df=pd.read_csv(data_location,sep=';',decimal=\",\")\n",
    "\n",
    "\n",
    "pd.set_option('display.max_columns',500)\n",
    "pd.set_option('display.max_rows',500)"
   ]
  },
  {
   "cell_type": "code",
   "execution_count": 46,
   "metadata": {},
   "outputs": [],
   "source": [
    "######## Chapter 6.2: Data Preparation #########\n",
    "\n",
    "###      Includes following: \n",
    "#        1. Data Type conversions\n",
    "#        2. Handling Missing Values - 6.2.1 \n",
    "#        3. Variable Selection - 6.2.1 \n",
    "#        4. Training/test split - 7.1.2, has to be done before undersampling. \n",
    "#        5. Balancing Target Distribution - 6.2.3 \n",
    "#           5.1 SMOTE \n",
    "#           5.2 ADASYN\n",
    "#           5.3 Under Sampling \n",
    "\n",
    "### 1. Data Type conversions: \n",
    "\n",
    "# Comvertimg variable types & setting number of decimals: \n",
    "\n",
    "# Transform int64 variables to categorical vairables \n",
    "df['MPostnr'] = df['MPostnr'].astype('category')\n",
    "df['MBy'] = df['MBy'].astype('category')\n",
    "df['AEPostnr'] = df['AEPostnr'].astype('category')\n",
    "df['AEBy'] = df['AEBy'].astype('category')\n",
    "df['BPostnr'] = df['BPostnr'].astype('category')\n",
    "df['BBy'] = df['BBy'].astype('category')\n",
    "df['B2Postnr'] = df['B2Postnr'].astype('category')\n",
    "df['B2By'] = df['B2By'].astype('category')\n",
    "df['B3Postnr'] = df['B3Postnr'].astype('category')\n",
    "df['B3By'] = df['B3By'].astype('category')\n",
    "df['Alder']=df['Alder'].astype('category')\n",
    "\n",
    "# Transform integer variables to floats \n",
    "df['IndexKvartal']=df['IndexKvartal'].astype('float64')\n",
    "df['IndexAar']=df['IndexAar'].astype('float64')\n",
    "df['offentligeYdelser']=df['offentligeYdelser'].astype('float64')\n",
    "df['privateIndtaegter']=df['privateIndtaegter'].astype('float64')\n",
    "\n",
    "# Transform string/character variables to categorical variables \n",
    "df['MBy']=df['MBy'].cat.codes\n",
    "df['AEBy']=df['AEBy'].cat.codes\n",
    "df['BBy']=df['BBy'].cat.codes\n",
    "df['B2By']=df['B2By'].cat.codes\n",
    "df['B3By']=df['B3By'].cat.codes\n",
    "\n",
    "# Set all cell values in DF to include only two decimals: \n",
    "df=df.round(2)\n",
    "\n",
    "### 2. Handling Missing Values\n",
    "\n",
    "# Set empty cells (\"\") to NAN\n",
    "# df=df.replace(r'^\\s*$', np.nan, regex=True)\n",
    "\n",
    "### 3. Variable Selection \n",
    "\n",
    "# Variables being dropped due to correlation \n",
    "df=df.drop(['id','AEPostnr','BPostnr','B2Postnr','B3Postnr','MPostnr','IndexKvartal','B3By','B3Alder',\n",
    "            'B2Alder','UDKTypeEkstraBTilskudEnlig','KTypePensKom','MKommune,,,,'],axis=1)\n",
    "\n",
    "\n",
    "df=df.replace({'Kÿn': {'Mand':0, 'Kvinde':1}})\n",
    "df=df.replace({'Alder': {'0 til 9':1,'10 til 19':1, '20 til 29':1, '30 til 39':2, '40 til 49':3, \n",
    "                         '50 til 59':4, '60 til 69':5, '70 til 79':5, '80 til 89':5, \n",
    "                         '90 til 90':5}})"
   ]
  },
  {
   "cell_type": "code",
   "execution_count": 47,
   "metadata": {},
   "outputs": [
    {
     "name": "stdout",
     "output_type": "stream",
     "text": [
      "Number of observations and columns in x train (727, 34)\n",
      "Number of observations and columns in y train (727,)\n",
      "Number of observations and columns in x test (486, 34)\n",
      "Number of observations and columns in y test (486,)\n"
     ]
    }
   ],
   "source": [
    "### 4. Creating training/test split: \n",
    "\n",
    "from sklearn.model_selection import train_test_split\n",
    "\n",
    "x=df.iloc[:,1:]\n",
    "y=df.iloc[:,0]\n",
    "\n",
    "x_train, x_test, y_train, y_test = train_test_split(x, y, test_size=0.4, random_state = 2)\n",
    "\n",
    "print('Number of observations and columns in x train', x_train.shape)\n",
    "print('Number of observations and columns in y train', y_train.shape)\n",
    "print('Number of observations and columns in x test' , x_test.shape)\n",
    "print('Number of observations and columns in y test' , y_test.shape)"
   ]
  },
  {
   "cell_type": "code",
   "execution_count": 48,
   "metadata": {},
   "outputs": [],
   "source": [
    "### 5. Balancing dataset \n",
    "# From above it is clear that our distribution is highly skewed - SMOTE:  \n",
    "from imblearn.over_sampling import SMOTE\n",
    "from imblearn.over_sampling import ADASYN\n",
    "from imblearn.under_sampling import RandomUnderSampler"
   ]
  },
  {
   "cell_type": "code",
   "execution_count": 49,
   "metadata": {},
   "outputs": [],
   "source": [
    "## 5.1 SMOTE \n",
    "sm=SMOTE(random_state=2)\n",
    "x_train_smo,y_train_smo=sm.fit_sample(x_train,y_train)\n",
    "\n",
    "## 5.2 ADASYN\n",
    "sma=ADASYN(random_state=3)\n",
    "x_train_ada,y_train_ada=sma.fit_sample(x_train,y_train)\n",
    "\n",
    "## 5.3 Under Sampling\n",
    "rus=RandomUnderSampler(random_state=4)\n",
    "x_train_us,y_train_us=rus.fit_sample(x_train,y_train)\n",
    "x_test_us,y_test_us=rus.fit_sample(x_test,y_test)"
   ]
  },
  {
   "cell_type": "code",
   "execution_count": 50,
   "metadata": {},
   "outputs": [],
   "source": [
    "## Converting variables back to Data frames: \n",
    "# y_train_smo=pd.DataFrame(y_train_smo)\n",
    "# y_train_smo =y_train_smo.rename(columns={0: 'Target'})\n",
    "# \n",
    "# y_train_ada=pd.DataFrame(y_train_ada)\n",
    "# y_train_ada =y_train_ada.rename(columns={0: 'Target'})\n",
    "# \n",
    "# y_train_us=pd.DataFrame(y_train_us)\n",
    "# y_train_us =y_train_us.rename(columns={0: 'Target'})\n",
    "\n",
    "x_train_smo=pd.DataFrame(x_train_smo,columns=[x_test])\n",
    "x_train_ada=pd.DataFrame(x_train_ada,columns=[x_test])\n",
    "x_train_us=pd.DataFrame(x_train_us,columns=[x_test])\n",
    "x_test_us=pd.DataFrame(x_test_us,columns=[x_test])"
   ]
  },
  {
   "cell_type": "code",
   "execution_count": 51,
   "metadata": {},
   "outputs": [
    {
     "data": {
      "text/plain": [
       "LogisticRegression(C=1.0, class_weight=None, dual=False, fit_intercept=True,\n",
       "                   intercept_scaling=1, l1_ratio=None, max_iter=4000,\n",
       "                   multi_class='warn', n_jobs=None, penalty='l1',\n",
       "                   random_state=42, solver='liblinear', tol=0.0001, verbose=0,\n",
       "                   warm_start=False)"
      ]
     },
     "execution_count": 51,
     "metadata": {},
     "output_type": "execute_result"
    }
   ],
   "source": [
    "### 2. Logistic Regression \n",
    "from sklearn.linear_model import LogisticRegression\n",
    "from sklearn.metrics import accuracy_score\n",
    "from sklearn.metrics import confusion_matrix\n",
    "\n",
    "# Fitting Models:  \n",
    "log_smo = LogisticRegression(solver='liblinear',penalty='l1',max_iter=4000, random_state=42)\n",
    "log_smo.fit(x_train_smo, y_train_smo)\n",
    "   \n",
    "log_ada = LogisticRegression(solver='liblinear',penalty='l1',max_iter=4000, random_state=42)\n",
    "log_ada.fit(x_train_ada, y_train_ada)\n",
    "\n",
    "log_us = LogisticRegression(solver='liblinear',penalty='l1',max_iter=4000, random_state=42)\n",
    "log_us.fit(x_train_us, y_train_us) \n"
   ]
  },
  {
   "cell_type": "code",
   "execution_count": 52,
   "metadata": {},
   "outputs": [
    {
     "name": "stdout",
     "output_type": "stream",
     "text": [
      "Accuracy of logistic regression classifier - SMO on test set: 0.693\n",
      "Accuracy of logistic regression classifier - ADA on test set: 0.700\n",
      "Accuracy of logistic regression classifier - US on test set: 0.458\n"
     ]
    }
   ],
   "source": [
    "# Creating Predictions: \n",
    "y_pred_smo = log_smo.predict(x_test)\n",
    "print('Accuracy of logistic regression classifier - SMO on test set: {:.3f}'.format(accuracy_score(y_test, y_pred_smo)))\n",
    "\n",
    "y_pred_ada = log_ada.predict(x_test)\n",
    "print('Accuracy of logistic regression classifier - ADA on test set: {:.3f}'.format(accuracy_score(y_test, y_pred_ada)))\n",
    "\n",
    "y_pred_us = log_us.predict(x_test_us)\n",
    "print('Accuracy of logistic regression classifier - US on test set: {:.3f}'.format(accuracy_score(y_test_us, y_pred_us)))"
   ]
  },
  {
   "cell_type": "code",
   "execution_count": 53,
   "metadata": {},
   "outputs": [
    {
     "name": "stdout",
     "output_type": "stream",
     "text": [
      "Confusion matrix - Logistic Regression with Smote:\n",
      "[[326 136]\n",
      " [ 13  11]]\n",
      "\n",
      " Confusion matrix - Logistic Regression with Adasyn:\n",
      "[[328 134]\n",
      " [ 12  12]]\n",
      "\n",
      " Confusion matrix - Logistic Regression with UnderSampling:\n",
      "[[ 9 15]\n",
      " [11 13]]\n"
     ]
    }
   ],
   "source": [
    "# Confusion matrices\n",
    "print('Confusion matrix - Logistic Regression with Smote:')\n",
    "print(confusion_matrix(y_test, y_pred_smo))\n",
    "\n",
    "print('\\n','Confusion matrix - Logistic Regression with Adasyn:')\n",
    "print(confusion_matrix(y_test, y_pred_ada))\n",
    "\n",
    "print('\\n','Confusion matrix - Logistic Regression with UnderSampling:')\n",
    "print(confusion_matrix(y_test_us, y_pred_us))\n"
   ]
  },
  {
   "cell_type": "code",
   "execution_count": 54,
   "metadata": {},
   "outputs": [
    {
     "name": "stdout",
     "output_type": "stream",
     "text": [
      "Performance Measures - Logistic Regression with Smote:\n",
      "              precision    recall  f1-score   support\n",
      "\n",
      "           0       0.96      0.71      0.81       462\n",
      "           1       0.07      0.46      0.13        24\n",
      "\n",
      "    accuracy                           0.69       486\n",
      "   macro avg       0.52      0.58      0.47       486\n",
      "weighted avg       0.92      0.69      0.78       486\n",
      "\n",
      "\n",
      " Performance Measures - Logistic Regression with Adasyn:\n",
      "              precision    recall  f1-score   support\n",
      "\n",
      "           0       0.96      0.71      0.82       462\n",
      "           1       0.08      0.50      0.14        24\n",
      "\n",
      "    accuracy                           0.70       486\n",
      "   macro avg       0.52      0.60      0.48       486\n",
      "weighted avg       0.92      0.70      0.78       486\n",
      "\n",
      "\n",
      " Performance Measures - Logistic Regression with US:\n",
      "              precision    recall  f1-score   support\n",
      "\n",
      "           0       0.45      0.38      0.41        24\n",
      "           1       0.46      0.54      0.50        24\n",
      "\n",
      "    accuracy                           0.46        48\n",
      "   macro avg       0.46      0.46      0.45        48\n",
      "weighted avg       0.46      0.46      0.45        48\n",
      "\n"
     ]
    }
   ],
   "source": [
    "# Accuracy measures: \n",
    "from sklearn.metrics import classification_report\n",
    "print('Performance Measures - Logistic Regression with Smote:')\n",
    "print(classification_report(y_test, y_pred_smo)) \n",
    "\n",
    "print('\\n','Performance Measures - Logistic Regression with Adasyn:')\n",
    "print(classification_report(y_test,y_pred_ada))\n",
    "\n",
    "print('\\n','Performance Measures - Logistic Regression with US:')\n",
    "print(classification_report(y_test_us,y_pred_us))\n"
   ]
  }
 ],
 "metadata": {
  "kernelspec": {
   "display_name": "conda_python3",
   "language": "python",
   "name": "conda_python3"
  },
  "language_info": {
   "codemirror_mode": {
    "name": "ipython",
    "version": 3
   },
   "file_extension": ".py",
   "mimetype": "text/x-python",
   "name": "python",
   "nbconvert_exporter": "python",
   "pygments_lexer": "ipython3",
   "version": "3.6.5"
  }
 },
 "nbformat": 4,
 "nbformat_minor": 2
}
